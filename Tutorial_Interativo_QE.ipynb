{
  "nbformat": 4,
  "nbformat_minor": 0,
  "metadata": {
    "colab": {
      "provenance": [],
      "authorship_tag": "ABX9TyM5u8duYURUOG32bM89B/Q+",
      "include_colab_link": true
    },
    "kernelspec": {
      "name": "python3",
      "display_name": "Python 3"
    },
    "language_info": {
      "name": "python"
    }
  },
  "cells": [
    {
      "cell_type": "markdown",
      "metadata": {
        "id": "view-in-github",
        "colab_type": "text"
      },
      "source": [
        "<a href=\"https://colab.research.google.com/github/LeonardoDKQ/Tutorial-Interativo-QE/blob/main/Tutorial_Interativo_QE.ipynb\" target=\"_parent\"><img src=\"https://colab.research.google.com/assets/colab-badge.svg\" alt=\"Open In Colab\"/></a>"
      ]
    },
    {
      "cell_type": "code",
      "execution_count": 6,
      "metadata": {
        "id": "EgR6IfEP4_zC"
      },
      "outputs": [],
      "source": [
        "!pip install -q -U google-generativeai\n"
      ]
    },
    {
      "cell_type": "code",
      "source": [
        "import pathlib\n",
        "import textwrap\n",
        "\n",
        "import google.generativeai as genai\n",
        "\n",
        "from IPython.display import display\n",
        "from IPython.display import Markdown\n",
        "\n",
        "\n",
        "def to_markdown(text):\n",
        "  text = text.replace('•', '  *')\n",
        "  return Markdown(textwrap.indent(text, '> ', predicate=lambda _: True))"
      ],
      "metadata": {
        "id": "vwMCa5Vj5I5_"
      },
      "execution_count": 7,
      "outputs": []
    },
    {
      "cell_type": "code",
      "source": [
        "# Or use `os.getenv('GOOGLE_API_KEY')` to fetch an environment variable.\n",
        "from google.colab import userdata\n",
        "api_key = userdata.get('SECRET_KEY')\n",
        "\n",
        "genai.configure(api_key=api_key)"
      ],
      "metadata": {
        "id": "bud9Sd0x5MG8"
      },
      "execution_count": 36,
      "outputs": []
    },
    {
      "cell_type": "code",
      "source": [
        "# Used to securely store your API key\n",
        "from google.colab import userdata"
      ],
      "metadata": {
        "id": "N3fifS4w5Xhz"
      },
      "execution_count": 9,
      "outputs": []
    },
    {
      "cell_type": "code",
      "source": [
        "for m in genai.list_models():\n",
        "  if \"generateContent\" in m.supported_generation_methods:\n",
        "    print(m.name)"
      ],
      "metadata": {
        "colab": {
          "base_uri": "https://localhost:8080/",
          "height": 139
        },
        "id": "vniT5ith5Z1-",
        "outputId": "e5828ee3-2683-4520-d292-dca6fd0c1560"
      },
      "execution_count": 10,
      "outputs": [
        {
          "output_type": "stream",
          "name": "stdout",
          "text": [
            "models/gemini-1.0-pro\n",
            "models/gemini-1.0-pro-001\n",
            "models/gemini-1.0-pro-latest\n",
            "models/gemini-1.0-pro-vision-latest\n",
            "models/gemini-1.5-pro-latest\n",
            "models/gemini-pro\n",
            "models/gemini-pro-vision\n"
          ]
        }
      ]
    },
    {
      "cell_type": "code",
      "source": [
        "generation_config = {\n",
        "    'candidate_count' : 1,\n",
        "    'temperature' : 0.5,\n",
        "}"
      ],
      "metadata": {
        "id": "qIl41FFD5ahM"
      },
      "execution_count": 11,
      "outputs": []
    },
    {
      "cell_type": "code",
      "source": [
        "safetty_settings = {\n",
        "    'Harassment': 'BLOCK_NOME',\n",
        "    'Hate': 'BLOCK_NOME',\n",
        "    'Sexual': 'BLOCK_NOME',\n",
        "    'Dangerous': 'BLOCK_NOME',\n",
        "}"
      ],
      "metadata": {
        "id": "Kkh3GIBj5cQc"
      },
      "execution_count": 12,
      "outputs": []
    },
    {
      "cell_type": "code",
      "source": [
        "model = genai.GenerativeModel(\"gemini-pro\")"
      ],
      "metadata": {
        "id": "3Uzqvl2G5hTP"
      },
      "execution_count": 13,
      "outputs": []
    },
    {
      "cell_type": "code",
      "source": [
        "chat = model.start_chat()"
      ],
      "metadata": {
        "id": "WBRuvrPv5jlP"
      },
      "execution_count": 14,
      "outputs": []
    },
    {
      "cell_type": "code",
      "source": [
        "!pip install -q -U google-generativeai pymatgen"
      ],
      "metadata": {
        "colab": {
          "base_uri": "https://localhost:8080/"
        },
        "id": "w3Tecg5P5mZv",
        "outputId": "5e3a39fa-9723-466d-adf0-524a288f4e09"
      },
      "execution_count": 15,
      "outputs": [
        {
          "output_type": "stream",
          "name": "stdout",
          "text": [
            "\u001b[2K     \u001b[90m━━━━━━━━━━━━━━━━━━━━━━━━━━━━━━━━━━━━━━━━\u001b[0m \u001b[32m4.8/4.8 MB\u001b[0m \u001b[31m15.6 MB/s\u001b[0m eta \u001b[36m0:00:00\u001b[0m\n",
            "\u001b[2K     \u001b[90m━━━━━━━━━━━━━━━━━━━━━━━━━━━━━━━━━━━━━━━━\u001b[0m \u001b[32m66.0/66.0 kB\u001b[0m \u001b[31m7.7 MB/s\u001b[0m eta \u001b[36m0:00:00\u001b[0m\n",
            "\u001b[2K     \u001b[90m━━━━━━━━━━━━━━━━━━━━━━━━━━━━━━━━━━━━━━━━\u001b[0m \u001b[32m332.3/332.3 kB\u001b[0m \u001b[31m23.0 MB/s\u001b[0m eta \u001b[36m0:00:00\u001b[0m\n",
            "\u001b[2K     \u001b[90m━━━━━━━━━━━━━━━━━━━━━━━━━━━━━━━━━━━━━━━━\u001b[0m \u001b[32m561.4/561.4 kB\u001b[0m \u001b[31m21.4 MB/s\u001b[0m eta \u001b[36m0:00:00\u001b[0m\n",
            "\u001b[2K     \u001b[90m━━━━━━━━━━━━━━━━━━━━━━━━━━━━━━━━━━━━━━━━\u001b[0m \u001b[32m117.8/117.8 kB\u001b[0m \u001b[31m13.8 MB/s\u001b[0m eta \u001b[36m0:00:00\u001b[0m\n",
            "\u001b[2K     \u001b[90m━━━━━━━━━━━━━━━━━━━━━━━━━━━━━━━━━━━━━━━━\u001b[0m \u001b[32m809.2/809.2 kB\u001b[0m \u001b[31m24.1 MB/s\u001b[0m eta \u001b[36m0:00:00\u001b[0m\n",
            "\u001b[2K     \u001b[90m━━━━━━━━━━━━━━━━━━━━━━━━━━━━━━━━━━━━━━━━\u001b[0m \u001b[32m98.4/98.4 kB\u001b[0m \u001b[31m10.4 MB/s\u001b[0m eta \u001b[36m0:00:00\u001b[0m\n",
            "\u001b[2K     \u001b[90m━━━━━━━━━━━━━━━━━━━━━━━━━━━━━━━━━━━━━━━━\u001b[0m \u001b[32m526.7/526.7 kB\u001b[0m \u001b[31m21.7 MB/s\u001b[0m eta \u001b[36m0:00:00\u001b[0m\n",
            "\u001b[?25h"
          ]
        }
      ]
    },
    {
      "cell_type": "code",
      "source": [
        "from pymatgen.core import Structure\n",
        "\n",
        "def process_molecule(cif_string):\n",
        "    \"\"\"\n",
        "    Processa uma string CIF e retorna informações da estrutura molecular.\n",
        "\n",
        "    Args:\n",
        "        cif_string: A string CIF representando a estrutura.\n",
        "\n",
        "    Returns:\n",
        "        Uma string com informações da estrutura ou uma mensagem de erro.\n",
        "    \"\"\"\n",
        "    try:\n",
        "        structure = Structure.from_str(cif_string, fmt=\"cif\")\n",
        "        formula = structure.formula\n",
        "        composition = structure.composition\n",
        "        spacegroup = structure.get_space_group_info()\n",
        "        return f\"A estrutura molecular é {formula}, com composição {composition}. O grupo espacial é {spacegroup}.\"\n",
        "    except ValueError:\n",
        "        return \"Erro: Formato CIF inválido. Por favor, insira uma string CIF válida.\"\n",
        "\n",
        "def interagir_com_usuario():\n",
        "    \"\"\"\n",
        "    Loop principal para interagir com o usuário.\n",
        "    \"\"\"\n",
        "    while True:\n",
        "        prompt = input(\"Insira a estrutura molecular no formato  ou faça uma pergunta (digite 'fim' para sair): \")\n",
        "        if prompt.lower() == \"fim\":\n",
        "            break\n",
        "\n",
        "        if prompt.startswith(\"data_\"):\n",
        "            context = process_molecule(prompt[5:])\n",
        "        else:\n",
        "            context = f\"Responda como um tutorial interativo sobre Quantum Espresso: {prompt}\"\n",
        "\n",
        "        response = chat.send_message(context)  # Substitua pelo seu modelo\n",
        "        print('Resposta: ', response.text, '\\n')\n",
        "\n",
        "# Iniciar a interação\n",
        "print(\"Bem-vindo ao chat interativo sobre Quantum Espresso!\")\n",
        "print(\"Eu sou seu assistente virtual.\")\n",
        "interagir_com_usuario()\n",
        "print(\"Fim do tutorial. Obrigado por participar!\")"
      ],
      "metadata": {
        "colab": {
          "base_uri": "https://localhost:8080/",
          "height": 1000
        },
        "id": "XXH7ll2NYw91",
        "outputId": "0d3aa279-44e3-4722-b92f-c667b7dba200"
      },
      "execution_count": 37,
      "outputs": [
        {
          "output_type": "stream",
          "name": "stdout",
          "text": [
            "Bem-vindo ao chat interativo sobre Quantum Espresso!\n",
            "Eu sou seu assistente virtual.\n",
            "Insira a estrutura molecular no formato  ou faça uma pergunta (digite 'fim' para sair): oque é o quantum espresso\n",
            "Resposta:  **O que é Quantum ESPRESSO?**\n",
            "\n",
            "**Quantum ESPRESSO** é um pacote de software de código aberto de primeira linha para cálculos mecânicos quânticos ab initio de sistemas de materiais. Ele usa a teoria do funcional da densidade (DFT) para calcular as propriedades eletrônicas, estruturais e espectroscópicas dos materiais.\n",
            "\n",
            "**Recursos do Quantum ESPRESSO:**\n",
            "\n",
            "* Cálculos DFT precisos e eficientes\n",
            "* Uma ampla gama de pseudopotenciais e conjuntos de base\n",
            "* Suporte para vários métodos de troca-correlação\n",
            "* Capacidades de paralelismo para cálculos em larga escala\n",
            "* Ferramentas de pós-processamento para análise e visualização de dados\n",
            "\n",
            "**Aplicações do Quantum ESPRESSO:**\n",
            "\n",
            "Quantum ESPRESSO é usado em uma ampla gama de aplicações, incluindo:\n",
            "\n",
            "* Previsão de propriedades eletrônicas de materiais\n",
            "* Estudo de propriedades estruturais e defeitos\n",
            "* Investigação de propriedades espectroscópicas\n",
            "* Desenvolvimento de novos materiais\n",
            "* Compreensão de fenômenos em nanoescala \n",
            "\n",
            "Insira a estrutura molecular no formato  ou faça uma pergunta (digite 'fim' para sair): me de um input para o Bi2WO6\n",
            "Resposta:  **Entrada do Quantum ESPRESSO para Bi2WO6**\n",
            "\n",
            "Aqui está um exemplo de arquivo de entrada do Quantum ESPRESSO para calcular as propriedades eletrônicas do Bi2WO6:\n",
            "\n",
            "```\n",
            "&control\n",
            "    calculation = 'scf'\n",
            "    outdir = 'Bi2WO6_output'\n",
            "    prefix = 'Bi2WO6'\n",
            "    pseudo_dir = '/path/to/pseudo'\n",
            "/\n",
            "&system\n",
            "    ibrav = 2\n",
            "    celldm(1) = 5.4558\n",
            "    celldm(2) = 5.4558\n",
            "    celldm(3) = 16.4084\n",
            "    nat = 12\n",
            "    ntyp = 2\n",
            "    ecutwfc = 60.0\n",
            "    ecutrho = 300.0\n",
            "    occupations = 'smearing'\n",
            "    smearing = 'gaussian'\n",
            "    degauss = 0.02\n",
            "/\n",
            "&electrons\n",
            "    conv_thr = 1.0e-8\n",
            "/\n",
            "ATOMIC_SPECIES\n",
            "Bi  208.98038  Bi.pbe-spn-kjpaw_psl.1.0.0.UPF\n",
            "O   15.9994   O.pbe-van_ak_gga_1.0.0.UPF\n",
            "ATOMIC_POSITIONS (crystal)\n",
            "Bi   0.0000000000   0.0000000000   0.3338145654\n",
            "Bi   0.0000000000   0.5000000000   0.8338145654\n",
            "Bi   0.5000000000   0.0000000000   0.6661854346\n",
            "Bi   0.5000000000   0.5000000000   0.1661854346\n",
            "O    0.0000000000   0.2500000000   0.1669072827\n",
            "O    0.0000000000   0.7500000000   0.6669072827\n",
            "O    0.2500000000   0.0000000000   0.5000000000\n",
            "O    0.2500000000   0.5000000000   0.0000000000\n",
            "O    0.5000000000   0.2500000000   0.3330927173\n",
            "O    0.5000000000   0.7500000000   0.8330927173\n",
            "O    0.7500000000   0.0000000000   0.1669072827\n",
            "O    0.7500000000   0.5000000000   0.6669072827\n",
            "```\n",
            "\n",
            "Este arquivo de entrada define um cálculo DFT para Bi2WO6 usando o funcional PBE e um conjunto de base de pseudopotencial planewave. Ele usa uma grade de k 4x4x4 e um corte de energia cinética de 60 Ry. \n",
            "\n",
            "Insira a estrutura molecular no formato  ou faça uma pergunta (digite 'fim' para sair): fim\n",
            "Fim do tutorial. Obrigado por participar!\n"
          ]
        }
      ]
    }
  ]
}